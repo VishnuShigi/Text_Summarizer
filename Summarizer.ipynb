{
 "cells": [
  {
   "cell_type": "code",
   "execution_count": 1,
   "metadata": {},
   "outputs": [],
   "source": [
    "import nltk\n",
    "from nltk.corpus import stopwords\n",
    "from nltk.tokenize import word_tokenize, sent_tokenize"
   ]
  },
  {
   "cell_type": "markdown",
   "metadata": {},
   "source": [
    "Working of the code"
   ]
  },
  {
   "cell_type": "code",
   "execution_count": 2,
   "metadata": {},
   "outputs": [],
   "source": [
    "text='A recent Gallup poll revealed that 85% of workers worldwide are unhappy or downright miserable at their jobs. A study published in the International Journal of Advanced Research in 2019 found that parents exert a significant influence on their children’s career choices, especially in some cultures and parts of the world. Could there be a correlation? A cursory look at the issue can be revealing. Children tend to regard their parents as gods, capable of everything except error. This misconception eventually wanes, but the process can take years or even decades. But can parents really provide great career advice or direction, given their high authority in the eyes of their children? Most parents, studies show, never bother to uncover their children’s talents, strengths, and weaknesses. They generally either do not care about or fail to understand the importance of matching the child’s inborn potential with a career choice. '"
   ]
  },
  {
   "cell_type": "code",
   "execution_count": 3,
   "metadata": {},
   "outputs": [
    {
     "name": "stdout",
     "output_type": "stream",
     "text": [
      "{'recent': 1, 'gallup': 1, 'poll': 1, 'revealed': 1, '85': 1, '%': 1, 'workers': 1, 'worldwide': 1, 'unhappy': 1, 'downright': 1, 'miserable': 1, 'jobs': 1, '.': 7, 'study': 1, 'published': 1, 'international': 1, 'journal': 1, 'advanced': 1, 'research': 1, '2019': 1, 'found': 1, 'parents': 4, 'exert': 1, 'significant': 1, 'influence': 1, 'children': 4, '’': 3, 'career': 3, 'choices': 1, ',': 8, 'especially': 1, 'cultures': 1, 'parts': 1, 'world': 1, 'could': 1, 'correlation': 1, '?': 2, 'cursory': 1, 'look': 1, 'issue': 1, 'revealing': 1, 'tend': 1, 'regard': 1, 'gods': 1, 'capable': 1, 'everything': 1, 'except': 1, 'error': 1, 'misconception': 1, 'eventually': 1, 'wanes': 1, 'process': 1, 'take': 1, 'years': 1, 'even': 1, 'decades': 1, 'really': 1, 'provide': 1, 'great': 1, 'advice': 1, 'direction': 1, 'given': 1, 'high': 1, 'authority': 1, 'eyes': 1, 'studies': 1, 'show': 1, 'never': 1, 'bother': 1, 'uncover': 1, 'talents': 1, 'strengths': 1, 'weaknesses': 1, 'generally': 1, 'either': 1, 'care': 1, 'fail': 1, 'understand': 1, 'importance': 1, 'matching': 1, 'child': 1, 'inborn': 1, 'potential': 1, 'choice': 1}\n"
     ]
    }
   ],
   "source": [
    "#Stopwords revomal\n",
    "stopWords=set(stopwords.words(\"english\"))\n",
    "#Tokenizing\n",
    "words=word_tokenize(text)\n",
    "#Creating a dictonary to store the word and the no. of times it repeated\n",
    "ft=dict()\n",
    "for word in words:\n",
    "    word=word.lower()\n",
    "    if word in stopWords:\n",
    "        continue\n",
    "    if word in ft:\n",
    "        ft[word]+=1\n",
    "    else:\n",
    "        ft[word]=1\n",
    "print(ft)"
   ]
  },
  {
   "cell_type": "code",
   "execution_count": 4,
   "metadata": {},
   "outputs": [
    {
     "name": "stdout",
     "output_type": "stream",
     "text": [
      "{'A recent Gallup poll revealed that 85% of workers worldwide are unhappy or downright miserable at their jobs.': 20, 'A study published in the International Journal of Advanced Research in 2019 found that parents exert a significant influence on their children’s career choices, especially in some cultures and parts of the world.': 48, 'Could there be a correlation?': 4, 'A cursory look at the issue can be revealing.': 11, 'Children tend to regard their parents as gods, capable of everything except error.': 31, 'This misconception eventually wanes, but the process can take years or even decades.': 23, 'But can parents really provide great career advice or direction, given their high authority in the eyes of their children?': 32, 'Most parents, studies show, never bother to uncover their children’s talents, strengths, and weaknesses.': 35, 'They generally either do not care about or fail to understand the importance of matching the child’s inborn potential with a career choice.': 24}\n"
     ]
    }
   ],
   "source": [
    "#Calculating the scores of each sentences based on the diictonary ft() created above\n",
    "senten=sent_tokenize(text)\n",
    "sentenval=dict()\n",
    "for sentence in senten: \n",
    "    for word, freq in ft.items(): \n",
    "        if word in sentence.lower(): \n",
    "            if sentence in sentenval: \n",
    "                sentenval[sentence] += freq \n",
    "            else: \n",
    "                sentenval[sentence] = freq \n",
    "print(sentenval)"
   ]
  },
  {
   "cell_type": "code",
   "execution_count": 5,
   "metadata": {},
   "outputs": [
    {
     "name": "stdout",
     "output_type": "stream",
     "text": [
      "228\n",
      "25\n"
     ]
    }
   ],
   "source": [
    "#Calculating the total score of each sentence in the text\n",
    "sumval=0\n",
    "for sentence in sentenval:\n",
    "    sumval+=sentenval[sentence]\n",
    "print(sumval)\n",
    "#Calculating the average score of the sentence in the text\n",
    "avg=int(sumval/len(sentenval))\n",
    "print (avg)"
   ]
  },
  {
   "cell_type": "code",
   "execution_count": 6,
   "metadata": {},
   "outputs": [
    {
     "name": "stdout",
     "output_type": "stream",
     "text": [
      "-> A study published in the International Journal of Advanced Research in 2019 found that parents exert a significant influence on their children’s career choices, especially in some cultures and parts of the world.\n",
      "-> Children tend to regard their parents as gods, capable of everything except error.\n",
      "-> But can parents really provide great career advice or direction, given their high authority in the eyes of their children?\n",
      "-> Most parents, studies show, never bother to uncover their children’s talents, strengths, and weaknesses.\n"
     ]
    }
   ],
   "source": [
    "#Printing the sentence which have 1.2 times higher score than the average score\n",
    "#The value of 1.2 can be changed based on the needs\n",
    "for sentence in senten:\n",
    "    if(sentence in sentenval) and (sentenval[sentence]>(1.2*avg)):\n",
    "        print(\"->\",sentence)"
   ]
  },
  {
   "cell_type": "markdown",
   "metadata": {},
   "source": [
    "Final Code"
   ]
  },
  {
   "cell_type": "code",
   "execution_count": 7,
   "metadata": {},
   "outputs": [
    {
     "name": "stdout",
     "output_type": "stream",
     "text": [
      "Enter the text to be summarized \n",
      "In the team sport, basketball, the five players in each team try to score goals in the hoops of the opposite team. The rings are of fixed proportions and measure 18 inches in diameter. The players can advance to the baskets of the opposing team by running or dribbling. Every player is expected to behave in the proper conduct of sportsmanship, and any behaviour other than this attracts a penalty.  The game of basketball came in the year 1891, in Springfield, Massachusetts. Many other sports formed an inspiration for basketball. It has features of soccer and rugby. There are several positions in which players can play; there is a power forward, centre, small forward, point guard, and shooting guard. Each team comes up with a strategy called a trap, and the most common of all strategies are man-to-man defence. Several types of shots are tried by the players, like jump shot, set shot, lay-up and likewise. Slam dunk is another accurate shot.\n",
      "Summarized Sentnce:\n",
      "-> In the team sport, basketball, the five players in each team try to score goals in the hoops of the opposite team.\n",
      "-> Every player is expected to behave in the proper conduct of sportsmanship, and any behaviour other than this attracts a penalty.\n",
      "-> There are several positions in which players can play; there is a power forward, centre, small forward, point guard, and shooting guard.\n",
      "-> Each team comes up with a strategy called a trap, and the most common of all strategies are man-to-man defence.\n",
      "-> Several types of shots are tried by the players, like jump shot, set shot, lay-up and likewise.\n"
     ]
    }
   ],
   "source": [
    "text = input('Enter the text to be summarized \\n')\n",
    "\n",
    "stopWords=set(stopwords.words(\"english\"))\n",
    "words=word_tokenize(text)\n",
    "\n",
    "ft=dict()\n",
    "for word in words:\n",
    "    word=word.lower()\n",
    "    if word in stopWords:\n",
    "        continue\n",
    "    if word in ft:\n",
    "        ft[word]+=1\n",
    "    else:\n",
    "        ft[word]=1\n",
    "\n",
    "\n",
    "senten=sent_tokenize(text)\n",
    "sentenval=dict()\n",
    "for sentence in senten: \n",
    "    for word, freq in ft.items(): \n",
    "        if word in sentence.lower(): \n",
    "            if sentence in sentenval: \n",
    "                sentenval[sentence] += freq \n",
    "            else: \n",
    "                sentenval[sentence] = freq         \n",
    "\n",
    "sumval=0\n",
    "for sentence in sentenval:\n",
    "    sumval+=sentenval[sentence]\n",
    "\n",
    "avg=int(sumval/len(sentenval))\n",
    "\n",
    "print('Summarized Sentnce:')\n",
    "for sentence in senten:\n",
    "    if(sentence in sentenval) and (sentenval[sentence]>(1.2*avg)):\n",
    "        print(\"->\",sentence)"
   ]
  }
 ],
 "metadata": {
  "kernelspec": {
   "display_name": "Python 3",
   "language": "python",
   "name": "python3"
  },
  "language_info": {
   "codemirror_mode": {
    "name": "ipython",
    "version": 3
   },
   "file_extension": ".py",
   "mimetype": "text/x-python",
   "name": "python",
   "nbconvert_exporter": "python",
   "pygments_lexer": "ipython3",
   "version": "3.9.4"
  }
 },
 "nbformat": 4,
 "nbformat_minor": 4
}
